{
 "cells": [
  {
   "cell_type": "code",
   "execution_count": 1,
   "id": "eba32b59",
   "metadata": {},
   "outputs": [],
   "source": [
    "import mysql.connector\n",
    "\n",
    "mydb=mysql.connector.connect(host=\"localhost\",user=\"root\",password=\"2001\",database=\"Database_SaidAbrordb\")\n",
    "\n",
    "mycursor=mydb.cursor()\n",
    "\n",
    "# mycursor.execute(\"CREATE DATABASE Database_SaidAbrordb\")"
   ]
  },
  {
   "cell_type": "code",
   "execution_count": 2,
   "id": "951fec2b",
   "metadata": {},
   "outputs": [],
   "source": [
    "mydb=mysql.connector.connect(host=\"localhost\",user=\"root\",password=\"SAIDABROR1998\", database=\"Database_SaidAbrordb\")\n",
    "\n",
    "mycursor=mydb.cursor()\n",
    "mycursor.execute(\"CREATE TABLE Drivers(name VARCHAR(100),licenceNumber INTEGER(4))\")"
   ]
  },
  {
   "cell_type": "code",
   "execution_count": 3,
   "id": "1e00f873",
   "metadata": {},
   "outputs": [],
   "source": [
    "mycursor.execute(\"ALTER TABLE Drivers ADD fatl_level INTEGER(2)\")\n",
    "mycursor.execute(\"ALTER TABLE Drivers ADD fatl_date INTEGER(8)\")\n",
    "mycursor.execute(\"ALTER TABLE Drivers ADD stlvt_level INTEGER(2)\")\n",
    "mycursor.execute(\"ALTER TABLE Drivers ADD stlvt_date INTEGER(8)\")\n",
    "mycursor.execute(\"ALTER TABLE Drivers ADD stlvt_authority VARCHAR(100)\")"
   ]
  },
  {
   "cell_type": "code",
   "execution_count": 3,
   "id": "df716cad",
   "metadata": {},
   "outputs": [
    {
     "name": "stdout",
     "output_type": "stream",
     "text": [
      "Driver's name: Ulugbek\n",
      "Licence number: 2345\n",
      "Fatl level: 10\n",
      "Fatl date: 20210908\n",
      "stlvtl level: 9\n",
      "stlvtl date: 20200103\n",
      "stlvtl authority: localpolice\n",
      "Driver's name: Rahmatulloh\n",
      "Licence number: 2456\n",
      "Fatl level: 8\n",
      "Fatl date: 20210304\n",
      "stlvtl level: 9\n",
      "stlvtl date: 20200307\n",
      "stlvtl authority: foreignerpolice\n",
      "Driver's name: Abdulxaq\n",
      "Licence number: 2657\n",
      "Fatl level: 8\n",
      "Fatl date: 19990102\n",
      "stlvtl level: 7\n",
      "stlvtl date: 1980104\n",
      "stlvtl authority: localpolice\n"
     ]
    }
   ],
   "source": [
    "sqlFormulam='''INSERT INTO drivers(name,licenceNumber,FATL_level,FATL_date,STLVT_level,STLVT_date,STLVT_authority)\n",
    "VALUES(%s,%s,%s,%s,%s,%s,%s)'''\n",
    "for i in range(3):\n",
    "    name=input(\"Driver's name: \")\n",
    "    lnum=int(input(\"Licence number: \"))\n",
    "    fl=int(input(\"Fatl level: \"))\n",
    "    fd=int(input(\"Fatl date: \"))\n",
    "    sl=int(input(\"stlvtl level: \"))\n",
    "    sd=int(input(\"stlvtl date: \"))\n",
    "    sa=input(\"stlvtl authority: \")\n",
    "    driver=[(name,lnum,fl,fd,sl,sd,sa)]\n",
    "    mycursor.executemany(sqlFormulam,driver)\n",
    "mydb.commit()   "
   ]
  },
  {
   "cell_type": "code",
   "execution_count": 5,
   "id": "856aa797",
   "metadata": {},
   "outputs": [],
   "source": [
    "mycursor.execute(\"CREATE TABLE vehicels(model VARCHAR(100),color VARCHAR(100), licenceNumber INTEGER(4))\")"
   ]
  },
  {
   "cell_type": "code",
   "execution_count": 6,
   "id": "25efd2ac",
   "metadata": {},
   "outputs": [],
   "source": [
    "mycursor.execute(\"ALTER TABLE vehicels ADD cond VARCHAR(10)\")"
   ]
  },
  {
   "cell_type": "code",
   "execution_count": 7,
   "id": "1a58ebbf",
   "metadata": {},
   "outputs": [
    {
     "name": "stdout",
     "output_type": "stream",
     "text": [
      "Vehicle model: Malibu\n",
      "The color: red\n",
      "The licence number of driver: 2345\n",
      "The condition: M\n",
      "Vehicle model: Nexia 3\n",
      "The color: White\n",
      "The licence number of driver: 2456\n",
      "The condition: R\n",
      "Vehicle model: Spark\n",
      "The color: blue\n",
      "The licence number of driver: 2657\n",
      "The condition: M\n"
     ]
    }
   ],
   "source": [
    "sqlformulam='''INSERT INTO vehicels(model,color,licenceNumber,cond) VALUES(%s,%s,%s,%s)'''\n",
    "for i in range(3):\n",
    "    model=input(\"Vehicle model: \")\n",
    "    color=input(\"The color: \")\n",
    "    licenceNumber=int(input(\"The licence number of driver: \"))\n",
    "    cond=input(\"The condition: \")\n",
    "    vehicle=[(model,color,licenceNumber,cond)]\n",
    "    mycursor.executemany(sqlformulam,vehicle)\n",
    "mydb.commit()  "
   ]
  },
  {
   "cell_type": "code",
   "execution_count": 8,
   "id": "d07f23a0",
   "metadata": {},
   "outputs": [],
   "source": [
    "mycursor.execute(\"CREATE TABLE trip(starting_date INTEGER(10), ending_date INTEGER(10),Booking_umber INTEGER(10))\")"
   ]
  },
  {
   "cell_type": "code",
   "execution_count": 11,
   "id": "762791d6",
   "metadata": {},
   "outputs": [
    {
     "name": "stdout",
     "output_type": "stream",
     "text": [
      "Start: 20220102\n",
      "Ending: 20220106\n",
      "Number: 9845\n",
      "Start: 20230405\n",
      "Ending: 20230901\n",
      "Number: 9456\n",
      "Start: 20230809\n",
      "Ending: 20230908\n",
      "Number: 7654\n"
     ]
    }
   ],
   "source": [
    "sql=\"INSERT INTO trip(starting_date,ending_date,Booking_umber) VALUES(%s,%s,%s)\"\n",
    "for i in range(3):\n",
    "    start=int(input(\"Start: \"))\n",
    "    end=int(input(\"Ending: \"))\n",
    "    number=int(input(\"Number: \"))\n",
    "    trip=[(start,end,number)]\n",
    "    mycursor.executemany(sql,trip)\n",
    "mydb.commit()  "
   ]
  },
  {
   "cell_type": "code",
   "execution_count": 12,
   "id": "bbdf933c",
   "metadata": {},
   "outputs": [],
   "source": [
    "mycursor.execute(\"CREATE TABLE Officials(country VARCHAR(50),Role VARCHAR(50), Language VARCHAR(50))\")"
   ]
  },
  {
   "cell_type": "code",
   "execution_count": 13,
   "id": "371904a0",
   "metadata": {},
   "outputs": [
    {
     "name": "stdout",
     "output_type": "stream",
     "text": [
      "Country: Russia\n",
      "Role: Cleaner\n",
      "Language: Russian\n",
      "Country: Korea\n",
      "Role: Helper\n",
      "Language: Korean\n",
      "Country: Uzbekistan\n",
      "Role: Leader\n",
      "Language: Uzbek\n"
     ]
    }
   ],
   "source": [
    "sql=\"INSERT INTO officials(Country,Role,Language) VALUES(%s,%s,%s)\"\n",
    "for i in range(3):\n",
    "    country=input(\"Country: \")\n",
    "    role=input(\"Role: \")\n",
    "    lang=input(\"Language: \")\n",
    "    officials=[(country,role,lang)]\n",
    "    mycursor.executemany(sql,officials)\n",
    "mydb.commit()  \n",
    "    "
   ]
  },
  {
   "cell_type": "code",
   "execution_count": 14,
   "id": "4c0835fa",
   "metadata": {},
   "outputs": [],
   "source": [
    "mycursor.execute(\"CREATE TABLE Countries(name VARCHAR(50),Language VARCHAR(50))\")"
   ]
  },
  {
   "cell_type": "code",
   "execution_count": 15,
   "id": "ad947ca1",
   "metadata": {},
   "outputs": [],
   "source": [
    "sql=\"INSERT INTO Countries(name,Language) VALUES(%s,%s)\"\n",
    "countries=[(\"Uzbekistan\",\"Uzbek\"),\n",
    "           (\"Russia\",\"Russian\"),\n",
    "           (\"Korea\",\"Korean\")\n",
    "          ]\n",
    "mycursor.executemany(sql,countries)\n",
    "mydb.commit() "
   ]
  },
  {
   "cell_type": "code",
   "execution_count": null,
   "id": "f1452464",
   "metadata": {},
   "outputs": [],
   "source": []
  }
 ],
 "metadata": {
  "kernelspec": {
   "display_name": "Python 3 (ipykernel)",
   "language": "python",
   "name": "python3"
  },
  "language_info": {
   "codemirror_mode": {
    "name": "ipython",
    "version": 3
   },
   "file_extension": ".py",
   "mimetype": "text/x-python",
   "name": "python",
   "nbconvert_exporter": "python",
   "pygments_lexer": "ipython3",
   "version": "3.9.12"
  }
 },
 "nbformat": 4,
 "nbformat_minor": 5
}
